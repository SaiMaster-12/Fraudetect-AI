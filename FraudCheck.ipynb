{
 "cells": [
  {
   "cell_type": "code",
   "execution_count": 1,
   "metadata": {},
   "outputs": [],
   "source": [
    "import pandas as pd\n",
    "import numpy as np\n",
    "from sklearn.metrics import confusion_matrix\n",
    "from sklearn.impute import SimpleImputer\n",
    "from sklearn.preprocessing import StandardScaler\n",
    "from sklearn.pipeline import Pipeline\n",
    "from sklearn.preprocessing import OneHotEncoder  ## Dummify\n",
    "from sklearn.model_selection import train_test_split\n",
    "from sklearn.pipeline import Pipeline\n",
    "from sklearn.model_selection import GridSearchCV, cross_val_score, StratifiedKFold\n",
    "from sklearn.compose import ColumnTransformer  ## Related to pipeline\n",
    "\n",
    "\n",
    "\n",
    "from sklearn.tree import DecisionTreeClassifier\n",
    "from sklearn.ensemble import RandomForestClassifier\n",
    "from sklearn.svm import SVC\n",
    "from sklearn.linear_model import LogisticRegression\n",
    "\n",
    "from sklearn.ensemble import GradientBoostingClassifier\n",
    "from sklearn.ensemble import AdaBoostClassifier\n",
    "\n",
    "\n",
    "from sklearn.metrics import confusion_matrix\n",
    "\n",
    "import matplotlib.pyplot as plt \n",
    "\n",
    "import seaborn as sns\n",
    "\n",
    "\n",
    "from imblearn.over_sampling import SMOTE\n",
    "\n",
    "import warnings\n",
    "warnings.filterwarnings('ignore')\n",
    "from sklearn.metrics import f1_score"
   ]
  },
  {
   "cell_type": "code",
   "execution_count": 2,
   "metadata": {},
   "outputs": [],
   "source": [
    "train_merchant_data = pd.read_csv(\"train_merchant_data-1561627820784.csv\", sep = ',', header = 0, na_values = ['unknown', '?'])\n",
    "train_order_data = pd.read_csv(\"train_order_data-1561627847149.csv\", sep = ',', header = 0, na_values = 'unknown')\n",
    "\n",
    "\n",
    "train_data = pd.read_csv(\"train-1561627878332.csv\", sep = ',', header = 0, na_values = 'unknown')\n",
    "ip_boundaries_countries = pd.read_csv(\"ip_boundaries_countries-1561628631121.csv\", sep = ',', header = 0, na_values = 'unknown')\n"
   ]
  },
  {
   "cell_type": "code",
   "execution_count": 3,
   "metadata": {},
   "outputs": [
    {
     "name": "stdout",
     "output_type": "stream",
     "text": [
      "(54213, 2)\n",
      "(54213, 7)\n",
      "(54213, 2)\n",
      "(138846, 3)\n"
     ]
    }
   ],
   "source": [
    "print(train_data.shape)\n",
    "print(train_order_data.shape)\n",
    "print(train_data.shape)\n",
    "print(ip_boundaries_countries.shape)"
   ]
  },
  {
   "cell_type": "code",
   "execution_count": 4,
   "metadata": {},
   "outputs": [],
   "source": [
    "train_merge=pd.merge(train_merchant_data,train_order_data, how='outer',on='Merchant_ID')"
   ]
  },
  {
   "cell_type": "code",
   "execution_count": 5,
   "metadata": {},
   "outputs": [],
   "source": [
    "merge_ip=pd.merge(train_data,train_merge, how='outer',on='Merchant_ID')"
   ]
  },
  {
   "cell_type": "code",
   "execution_count": 6,
   "metadata": {},
   "outputs": [
    {
     "data": {
      "text/html": [
       "<div>\n",
       "<style scoped>\n",
       "    .dataframe tbody tr th:only-of-type {\n",
       "        vertical-align: middle;\n",
       "    }\n",
       "\n",
       "    .dataframe tbody tr th {\n",
       "        vertical-align: top;\n",
       "    }\n",
       "\n",
       "    .dataframe thead th {\n",
       "        text-align: right;\n",
       "    }\n",
       "</style>\n",
       "<table border=\"1\" class=\"dataframe\">\n",
       "  <thead>\n",
       "    <tr style=\"text-align: right;\">\n",
       "      <th></th>\n",
       "      <th>Merchant_ID</th>\n",
       "      <th>Fraudster</th>\n",
       "      <th>Ecommerce_Provider_ID</th>\n",
       "      <th>Merchant_Registration_Date</th>\n",
       "      <th>Registered_Device_ID</th>\n",
       "      <th>Gender</th>\n",
       "      <th>Age</th>\n",
       "      <th>IP_Address</th>\n",
       "      <th>Customer_ID</th>\n",
       "      <th>Order_ID</th>\n",
       "      <th>Date_of_Order</th>\n",
       "      <th>Order_Value_USD</th>\n",
       "      <th>Order_Source</th>\n",
       "      <th>Order_Payment_Method</th>\n",
       "    </tr>\n",
       "  </thead>\n",
       "  <tbody>\n",
       "    <tr>\n",
       "      <th>0</th>\n",
       "      <td>221592</td>\n",
       "      <td>0</td>\n",
       "      <td>1746213</td>\n",
       "      <td>2018-07-01 06:43:23</td>\n",
       "      <td>QDZKUGCGLVPZG</td>\n",
       "      <td>F</td>\n",
       "      <td>42</td>\n",
       "      <td>157.217.17.33</td>\n",
       "      <td>149173</td>\n",
       "      <td>6641fb40fd59</td>\n",
       "      <td>2018-10-29 17:58:25</td>\n",
       "      <td>205</td>\n",
       "      <td>Direct</td>\n",
       "      <td>Credit Card</td>\n",
       "    </tr>\n",
       "    <tr>\n",
       "      <th>1</th>\n",
       "      <td>316935</td>\n",
       "      <td>1</td>\n",
       "      <td>1746213</td>\n",
       "      <td>2018-01-18 01:10:42</td>\n",
       "      <td>GCCLHNBNIJJGW</td>\n",
       "      <td>M</td>\n",
       "      <td>42</td>\n",
       "      <td>46.8.62.247</td>\n",
       "      <td>117942</td>\n",
       "      <td>09ce4ab420a6</td>\n",
       "      <td>2018-03-24 20:15:57</td>\n",
       "      <td>88</td>\n",
       "      <td>Ads</td>\n",
       "      <td>Cash On Delivery</td>\n",
       "    </tr>\n",
       "    <tr>\n",
       "      <th>2</th>\n",
       "      <td>38454</td>\n",
       "      <td>1</td>\n",
       "      <td>1746213</td>\n",
       "      <td>2018-07-16 07:56:34</td>\n",
       "      <td>DAXDXWHPMSUJG</td>\n",
       "      <td>M</td>\n",
       "      <td>19</td>\n",
       "      <td>222.110.0.90</td>\n",
       "      <td>125604</td>\n",
       "      <td>41274e2a70c0</td>\n",
       "      <td>2018-09-19 15:13:54</td>\n",
       "      <td>100</td>\n",
       "      <td>Direct</td>\n",
       "      <td>Credit Card</td>\n",
       "    </tr>\n",
       "    <tr>\n",
       "      <th>3</th>\n",
       "      <td>214437</td>\n",
       "      <td>1</td>\n",
       "      <td>1746213</td>\n",
       "      <td>2018-04-28 17:08:09</td>\n",
       "      <td>XPBKQAAEUPZAO</td>\n",
       "      <td>F</td>\n",
       "      <td>35</td>\n",
       "      <td>104.242.92.50</td>\n",
       "      <td>155981</td>\n",
       "      <td>e8538b380577</td>\n",
       "      <td>2018-05-27 23:24:42</td>\n",
       "      <td>60</td>\n",
       "      <td>Direct</td>\n",
       "      <td>Debit Card</td>\n",
       "    </tr>\n",
       "    <tr>\n",
       "      <th>4</th>\n",
       "      <td>296240</td>\n",
       "      <td>1</td>\n",
       "      <td>1746213</td>\n",
       "      <td>2018-01-09 00:26:19</td>\n",
       "      <td>VGGTRBYDZMCPN</td>\n",
       "      <td>F</td>\n",
       "      <td>27</td>\n",
       "      <td>175.104.225.24</td>\n",
       "      <td>142401</td>\n",
       "      <td>72905bb38554</td>\n",
       "      <td>2018-01-11 00:26:20</td>\n",
       "      <td>88</td>\n",
       "      <td>Ads</td>\n",
       "      <td>E-wallet</td>\n",
       "    </tr>\n",
       "  </tbody>\n",
       "</table>\n",
       "</div>"
      ],
      "text/plain": [
       "   Merchant_ID  Fraudster  Ecommerce_Provider_ID Merchant_Registration_Date  \\\n",
       "0       221592          0                1746213        2018-07-01 06:43:23   \n",
       "1       316935          1                1746213        2018-01-18 01:10:42   \n",
       "2        38454          1                1746213        2018-07-16 07:56:34   \n",
       "3       214437          1                1746213        2018-04-28 17:08:09   \n",
       "4       296240          1                1746213        2018-01-09 00:26:19   \n",
       "\n",
       "  Registered_Device_ID Gender  Age      IP_Address  Customer_ID      Order_ID  \\\n",
       "0        QDZKUGCGLVPZG      F   42   157.217.17.33       149173  6641fb40fd59   \n",
       "1        GCCLHNBNIJJGW      M   42     46.8.62.247       117942  09ce4ab420a6   \n",
       "2        DAXDXWHPMSUJG      M   19    222.110.0.90       125604  41274e2a70c0   \n",
       "3        XPBKQAAEUPZAO      F   35   104.242.92.50       155981  e8538b380577   \n",
       "4        VGGTRBYDZMCPN      F   27  175.104.225.24       142401  72905bb38554   \n",
       "\n",
       "         Date_of_Order  Order_Value_USD Order_Source Order_Payment_Method  \n",
       "0  2018-10-29 17:58:25              205       Direct          Credit Card  \n",
       "1  2018-03-24 20:15:57               88          Ads     Cash On Delivery  \n",
       "2  2018-09-19 15:13:54              100       Direct          Credit Card  \n",
       "3  2018-05-27 23:24:42               60       Direct           Debit Card  \n",
       "4  2018-01-11 00:26:20               88          Ads             E-wallet  "
      ]
     },
     "execution_count": 6,
     "metadata": {},
     "output_type": "execute_result"
    }
   ],
   "source": [
    "merge_ip.head()"
   ]
  },
  {
   "cell_type": "code",
   "execution_count": 7,
   "metadata": {},
   "outputs": [
    {
     "data": {
      "text/plain": [
       "(54213, 14)"
      ]
     },
     "execution_count": 7,
     "metadata": {},
     "output_type": "execute_result"
    }
   ],
   "source": [
    "merge_ip.shape"
   ]
  },
  {
   "cell_type": "code",
   "execution_count": 8,
   "metadata": {},
   "outputs": [
    {
     "data": {
      "text/html": [
       "<div>\n",
       "<style scoped>\n",
       "    .dataframe tbody tr th:only-of-type {\n",
       "        vertical-align: middle;\n",
       "    }\n",
       "\n",
       "    .dataframe tbody tr th {\n",
       "        vertical-align: top;\n",
       "    }\n",
       "\n",
       "    .dataframe thead th {\n",
       "        text-align: right;\n",
       "    }\n",
       "</style>\n",
       "<table border=\"1\" class=\"dataframe\">\n",
       "  <thead>\n",
       "    <tr style=\"text-align: right;\">\n",
       "      <th></th>\n",
       "      <th>Merchant_ID</th>\n",
       "      <th>Fraudster</th>\n",
       "      <th>Ecommerce_Provider_ID</th>\n",
       "      <th>Merchant_Registration_Date</th>\n",
       "      <th>Registered_Device_ID</th>\n",
       "      <th>Gender</th>\n",
       "      <th>Age</th>\n",
       "      <th>IP_Address</th>\n",
       "      <th>Customer_ID</th>\n",
       "      <th>Order_ID</th>\n",
       "      <th>Date_of_Order</th>\n",
       "      <th>Order_Value_USD</th>\n",
       "      <th>Order_Source</th>\n",
       "      <th>Order_Payment_Method</th>\n",
       "    </tr>\n",
       "  </thead>\n",
       "  <tbody>\n",
       "    <tr>\n",
       "      <th>count</th>\n",
       "      <td>54213.000000</td>\n",
       "      <td>54213.00000</td>\n",
       "      <td>54213.0</td>\n",
       "      <td>54213</td>\n",
       "      <td>54213</td>\n",
       "      <td>54213</td>\n",
       "      <td>54213.000000</td>\n",
       "      <td>54213</td>\n",
       "      <td>54213.000000</td>\n",
       "      <td>54213</td>\n",
       "      <td>54213</td>\n",
       "      <td>54213.000000</td>\n",
       "      <td>54213</td>\n",
       "      <td>54213</td>\n",
       "    </tr>\n",
       "    <tr>\n",
       "      <th>unique</th>\n",
       "      <td>NaN</td>\n",
       "      <td>NaN</td>\n",
       "      <td>NaN</td>\n",
       "      <td>54213</td>\n",
       "      <td>51291</td>\n",
       "      <td>2</td>\n",
       "      <td>NaN</td>\n",
       "      <td>52028</td>\n",
       "      <td>NaN</td>\n",
       "      <td>54213</td>\n",
       "      <td>54161</td>\n",
       "      <td>NaN</td>\n",
       "      <td>3</td>\n",
       "      <td>5</td>\n",
       "    </tr>\n",
       "    <tr>\n",
       "      <th>top</th>\n",
       "      <td>NaN</td>\n",
       "      <td>NaN</td>\n",
       "      <td>NaN</td>\n",
       "      <td>2018-02-23 11:38:16</td>\n",
       "      <td>VIPZYJGMVMXOF</td>\n",
       "      <td>M</td>\n",
       "      <td>NaN</td>\n",
       "      <td>115.241.135.193</td>\n",
       "      <td>NaN</td>\n",
       "      <td>d8820adf185f</td>\n",
       "      <td>2018-07-13 16:52:14</td>\n",
       "      <td>NaN</td>\n",
       "      <td>SEO</td>\n",
       "      <td>Credit Card</td>\n",
       "    </tr>\n",
       "    <tr>\n",
       "      <th>freq</th>\n",
       "      <td>NaN</td>\n",
       "      <td>NaN</td>\n",
       "      <td>NaN</td>\n",
       "      <td>1</td>\n",
       "      <td>9</td>\n",
       "      <td>31761</td>\n",
       "      <td>NaN</td>\n",
       "      <td>9</td>\n",
       "      <td>NaN</td>\n",
       "      <td>1</td>\n",
       "      <td>2</td>\n",
       "      <td>NaN</td>\n",
       "      <td>21884</td>\n",
       "      <td>21844</td>\n",
       "    </tr>\n",
       "    <tr>\n",
       "      <th>mean</th>\n",
       "      <td>200395.176212</td>\n",
       "      <td>0.09269</td>\n",
       "      <td>1746213.0</td>\n",
       "      <td>NaN</td>\n",
       "      <td>NaN</td>\n",
       "      <td>NaN</td>\n",
       "      <td>33.122240</td>\n",
       "      <td>NaN</td>\n",
       "      <td>137966.285208</td>\n",
       "      <td>NaN</td>\n",
       "      <td>NaN</td>\n",
       "      <td>92.230240</td>\n",
       "      <td>NaN</td>\n",
       "      <td>NaN</td>\n",
       "    </tr>\n",
       "    <tr>\n",
       "      <th>std</th>\n",
       "      <td>115398.486895</td>\n",
       "      <td>0.29000</td>\n",
       "      <td>0.0</td>\n",
       "      <td>NaN</td>\n",
       "      <td>NaN</td>\n",
       "      <td>NaN</td>\n",
       "      <td>8.630091</td>\n",
       "      <td>NaN</td>\n",
       "      <td>15563.516156</td>\n",
       "      <td>NaN</td>\n",
       "      <td>NaN</td>\n",
       "      <td>45.673263</td>\n",
       "      <td>NaN</td>\n",
       "      <td>NaN</td>\n",
       "    </tr>\n",
       "    <tr>\n",
       "      <th>min</th>\n",
       "      <td>2.000000</td>\n",
       "      <td>0.00000</td>\n",
       "      <td>1746213.0</td>\n",
       "      <td>NaN</td>\n",
       "      <td>NaN</td>\n",
       "      <td>NaN</td>\n",
       "      <td>18.000000</td>\n",
       "      <td>NaN</td>\n",
       "      <td>111234.000000</td>\n",
       "      <td>NaN</td>\n",
       "      <td>NaN</td>\n",
       "      <td>22.000000</td>\n",
       "      <td>NaN</td>\n",
       "      <td>NaN</td>\n",
       "    </tr>\n",
       "    <tr>\n",
       "      <th>25%</th>\n",
       "      <td>100997.000000</td>\n",
       "      <td>0.00000</td>\n",
       "      <td>1746213.0</td>\n",
       "      <td>NaN</td>\n",
       "      <td>NaN</td>\n",
       "      <td>NaN</td>\n",
       "      <td>27.000000</td>\n",
       "      <td>NaN</td>\n",
       "      <td>124471.000000</td>\n",
       "      <td>NaN</td>\n",
       "      <td>NaN</td>\n",
       "      <td>55.000000</td>\n",
       "      <td>NaN</td>\n",
       "      <td>NaN</td>\n",
       "    </tr>\n",
       "    <tr>\n",
       "      <th>50%</th>\n",
       "      <td>200574.000000</td>\n",
       "      <td>0.00000</td>\n",
       "      <td>1746213.0</td>\n",
       "      <td>NaN</td>\n",
       "      <td>NaN</td>\n",
       "      <td>NaN</td>\n",
       "      <td>32.000000</td>\n",
       "      <td>NaN</td>\n",
       "      <td>137864.000000</td>\n",
       "      <td>NaN</td>\n",
       "      <td>NaN</td>\n",
       "      <td>88.000000</td>\n",
       "      <td>NaN</td>\n",
       "      <td>NaN</td>\n",
       "    </tr>\n",
       "    <tr>\n",
       "      <th>75%</th>\n",
       "      <td>300407.000000</td>\n",
       "      <td>0.00000</td>\n",
       "      <td>1746213.0</td>\n",
       "      <td>NaN</td>\n",
       "      <td>NaN</td>\n",
       "      <td>NaN</td>\n",
       "      <td>39.000000</td>\n",
       "      <td>NaN</td>\n",
       "      <td>151405.000000</td>\n",
       "      <td>NaN</td>\n",
       "      <td>NaN</td>\n",
       "      <td>122.000000</td>\n",
       "      <td>NaN</td>\n",
       "      <td>NaN</td>\n",
       "    </tr>\n",
       "    <tr>\n",
       "      <th>max</th>\n",
       "      <td>399993.000000</td>\n",
       "      <td>1.00000</td>\n",
       "      <td>1746213.0</td>\n",
       "      <td>NaN</td>\n",
       "      <td>NaN</td>\n",
       "      <td>NaN</td>\n",
       "      <td>72.000000</td>\n",
       "      <td>NaN</td>\n",
       "      <td>165000.000000</td>\n",
       "      <td>NaN</td>\n",
       "      <td>NaN</td>\n",
       "      <td>385.000000</td>\n",
       "      <td>NaN</td>\n",
       "      <td>NaN</td>\n",
       "    </tr>\n",
       "  </tbody>\n",
       "</table>\n",
       "</div>"
      ],
      "text/plain": [
       "          Merchant_ID    Fraudster  Ecommerce_Provider_ID  \\\n",
       "count    54213.000000  54213.00000                54213.0   \n",
       "unique            NaN          NaN                    NaN   \n",
       "top               NaN          NaN                    NaN   \n",
       "freq              NaN          NaN                    NaN   \n",
       "mean    200395.176212      0.09269              1746213.0   \n",
       "std     115398.486895      0.29000                    0.0   \n",
       "min          2.000000      0.00000              1746213.0   \n",
       "25%     100997.000000      0.00000              1746213.0   \n",
       "50%     200574.000000      0.00000              1746213.0   \n",
       "75%     300407.000000      0.00000              1746213.0   \n",
       "max     399993.000000      1.00000              1746213.0   \n",
       "\n",
       "       Merchant_Registration_Date Registered_Device_ID Gender           Age  \\\n",
       "count                       54213                54213  54213  54213.000000   \n",
       "unique                      54213                51291      2           NaN   \n",
       "top           2018-02-23 11:38:16        VIPZYJGMVMXOF      M           NaN   \n",
       "freq                            1                    9  31761           NaN   \n",
       "mean                          NaN                  NaN    NaN     33.122240   \n",
       "std                           NaN                  NaN    NaN      8.630091   \n",
       "min                           NaN                  NaN    NaN     18.000000   \n",
       "25%                           NaN                  NaN    NaN     27.000000   \n",
       "50%                           NaN                  NaN    NaN     32.000000   \n",
       "75%                           NaN                  NaN    NaN     39.000000   \n",
       "max                           NaN                  NaN    NaN     72.000000   \n",
       "\n",
       "             IP_Address    Customer_ID      Order_ID        Date_of_Order  \\\n",
       "count             54213   54213.000000         54213                54213   \n",
       "unique            52028            NaN         54213                54161   \n",
       "top     115.241.135.193            NaN  d8820adf185f  2018-07-13 16:52:14   \n",
       "freq                  9            NaN             1                    2   \n",
       "mean                NaN  137966.285208           NaN                  NaN   \n",
       "std                 NaN   15563.516156           NaN                  NaN   \n",
       "min                 NaN  111234.000000           NaN                  NaN   \n",
       "25%                 NaN  124471.000000           NaN                  NaN   \n",
       "50%                 NaN  137864.000000           NaN                  NaN   \n",
       "75%                 NaN  151405.000000           NaN                  NaN   \n",
       "max                 NaN  165000.000000           NaN                  NaN   \n",
       "\n",
       "        Order_Value_USD Order_Source Order_Payment_Method  \n",
       "count      54213.000000        54213                54213  \n",
       "unique              NaN            3                    5  \n",
       "top                 NaN          SEO          Credit Card  \n",
       "freq                NaN        21884                21844  \n",
       "mean          92.230240          NaN                  NaN  \n",
       "std           45.673263          NaN                  NaN  \n",
       "min           22.000000          NaN                  NaN  \n",
       "25%           55.000000          NaN                  NaN  \n",
       "50%           88.000000          NaN                  NaN  \n",
       "75%          122.000000          NaN                  NaN  \n",
       "max          385.000000          NaN                  NaN  "
      ]
     },
     "execution_count": 8,
     "metadata": {},
     "output_type": "execute_result"
    }
   ],
   "source": [
    "merge_ip.describe(include='all')"
   ]
  },
  {
   "cell_type": "code",
   "execution_count": 9,
   "metadata": {},
   "outputs": [
    {
     "data": {
      "text/plain": [
       "Merchant_ID                   0\n",
       "Fraudster                     0\n",
       "Ecommerce_Provider_ID         0\n",
       "Merchant_Registration_Date    0\n",
       "Registered_Device_ID          0\n",
       "Gender                        0\n",
       "Age                           0\n",
       "IP_Address                    0\n",
       "Customer_ID                   0\n",
       "Order_ID                      0\n",
       "Date_of_Order                 0\n",
       "Order_Value_USD               0\n",
       "Order_Source                  0\n",
       "Order_Payment_Method          0\n",
       "dtype: int64"
      ]
     },
     "execution_count": 9,
     "metadata": {},
     "output_type": "execute_result"
    }
   ],
   "source": [
    "merge_ip.isnull().sum()"
   ]
  },
  {
   "cell_type": "code",
   "execution_count": 10,
   "metadata": {},
   "outputs": [],
   "source": [
    "merge_ip.drop('Ecommerce_Provider_ID', axis=1, inplace=True)"
   ]
  },
  {
   "cell_type": "code",
   "execution_count": 11,
   "metadata": {},
   "outputs": [],
   "source": [
    "def ip_to_int(ip_ser):\n",
    "    ips = ip_ser.str.split('.', expand=True).astype(np.int16).values\n",
    "    mults = np.tile(np.array([24, 16, 8, 0]), len(ip_ser)).reshape(ips.shape)\n",
    "    return np.sum(np.left_shift(ips, mults), axis=1)"
   ]
  },
  {
   "cell_type": "code",
   "execution_count": 12,
   "metadata": {},
   "outputs": [
    {
     "data": {
      "text/plain": [
       "Merchant_ID                    int64\n",
       "Fraudster                      int64\n",
       "Merchant_Registration_Date    object\n",
       "Registered_Device_ID          object\n",
       "Gender                        object\n",
       "Age                            int64\n",
       "IP_Address                    object\n",
       "Customer_ID                    int64\n",
       "Order_ID                      object\n",
       "Date_of_Order                 object\n",
       "Order_Value_USD                int64\n",
       "Order_Source                  object\n",
       "Order_Payment_Method          object\n",
       "dtype: object"
      ]
     },
     "execution_count": 12,
     "metadata": {},
     "output_type": "execute_result"
    }
   ],
   "source": [
    "merge_ip.dtypes"
   ]
  },
  {
   "cell_type": "code",
   "execution_count": 13,
   "metadata": {},
   "outputs": [],
   "source": [
    "for col in ['Merchant_Registration_Date','Date_of_Order']:\n",
    "    merge_ip[col]=merge_ip[col].astype('datetime64[ns]')"
   ]
  },
  {
   "cell_type": "code",
   "execution_count": 14,
   "metadata": {},
   "outputs": [
    {
     "data": {
      "text/plain": [
       "Merchant_ID                            int64\n",
       "Fraudster                              int64\n",
       "Merchant_Registration_Date    datetime64[ns]\n",
       "Registered_Device_ID                  object\n",
       "Gender                                object\n",
       "Age                                    int64\n",
       "IP_Address                            object\n",
       "Customer_ID                            int64\n",
       "Order_ID                              object\n",
       "Date_of_Order                 datetime64[ns]\n",
       "Order_Value_USD                        int64\n",
       "Order_Source                          object\n",
       "Order_Payment_Method                  object\n",
       "dtype: object"
      ]
     },
     "execution_count": 14,
     "metadata": {},
     "output_type": "execute_result"
    }
   ],
   "source": [
    "merge_ip.dtypes"
   ]
  },
  {
   "cell_type": "code",
   "execution_count": 15,
   "metadata": {},
   "outputs": [],
   "source": [
    "for col in ['Gender', 'Order_Source', 'Order_Payment_Method','Registered_Device_ID', 'IP_Address', 'Order_ID', 'Fraudster']:\n",
    "    merge_ip[col]= merge_ip[col].astype('category')"
   ]
  },
  {
   "cell_type": "code",
   "execution_count": 16,
   "metadata": {},
   "outputs": [
    {
     "data": {
      "text/plain": [
       "Merchant_ID                            int64\n",
       "Fraudster                           category\n",
       "Merchant_Registration_Date    datetime64[ns]\n",
       "Registered_Device_ID                category\n",
       "Gender                              category\n",
       "Age                                    int64\n",
       "IP_Address                          category\n",
       "Customer_ID                            int64\n",
       "Order_ID                            category\n",
       "Date_of_Order                 datetime64[ns]\n",
       "Order_Value_USD                        int64\n",
       "Order_Source                        category\n",
       "Order_Payment_Method                category\n",
       "dtype: object"
      ]
     },
     "execution_count": 16,
     "metadata": {},
     "output_type": "execute_result"
    }
   ],
   "source": [
    "merge_ip.dtypes"
   ]
  },
  {
   "cell_type": "code",
   "execution_count": 17,
   "metadata": {},
   "outputs": [],
   "source": [
    "merge_ip.drop(['Merchant_Registration_Date','Date_of_Order'], axis=1, inplace=True)"
   ]
  },
  {
   "cell_type": "code",
   "execution_count": 18,
   "metadata": {},
   "outputs": [
    {
     "data": {
      "text/plain": [
       "Merchant_ID                int64\n",
       "Fraudster               category\n",
       "Registered_Device_ID    category\n",
       "Gender                  category\n",
       "Age                        int64\n",
       "IP_Address              category\n",
       "Customer_ID                int64\n",
       "Order_ID                category\n",
       "Order_Value_USD            int64\n",
       "Order_Source            category\n",
       "Order_Payment_Method    category\n",
       "dtype: object"
      ]
     },
     "execution_count": 18,
     "metadata": {},
     "output_type": "execute_result"
    }
   ],
   "source": [
    "merge_ip.dtypes"
   ]
  },
  {
   "cell_type": "code",
   "execution_count": 19,
   "metadata": {},
   "outputs": [],
   "source": [
    "cat_cols=list(merge_ip.select_dtypes('category').columns)\n",
    "num_cols=list(merge_ip.columns.difference(cat_cols))"
   ]
  },
  {
   "cell_type": "code",
   "execution_count": 20,
   "metadata": {},
   "outputs": [
    {
     "name": "stdout",
     "output_type": "stream",
     "text": [
      "['Fraudster', 'Registered_Device_ID', 'Gender', 'IP_Address', 'Order_ID', 'Order_Source', 'Order_Payment_Method']\n"
     ]
    }
   ],
   "source": [
    "print(cat_cols)"
   ]
  },
  {
   "cell_type": "code",
   "execution_count": 21,
   "metadata": {},
   "outputs": [
    {
     "name": "stdout",
     "output_type": "stream",
     "text": [
      "['Age', 'Customer_ID', 'Merchant_ID', 'Order_Value_USD']\n"
     ]
    }
   ],
   "source": [
    "print(num_cols)"
   ]
  },
  {
   "cell_type": "code",
   "execution_count": 22,
   "metadata": {},
   "outputs": [],
   "source": [
    "target_var= cat_cols.pop(0)"
   ]
  },
  {
   "cell_type": "code",
   "execution_count": 23,
   "metadata": {},
   "outputs": [
    {
     "name": "stdout",
     "output_type": "stream",
     "text": [
      "Fraudster\n"
     ]
    }
   ],
   "source": [
    "print(target_var)"
   ]
  },
  {
   "cell_type": "code",
   "execution_count": 31,
   "metadata": {},
   "outputs": [],
   "source": [
    "# PipLine\n",
    "numeric_transformer = Pipeline(steps=[\n",
    "    ('imputer', SimpleImputer(strategy='median')),\n",
    "    ('scaler', StandardScaler())])\n",
    "\n",
    "# Categorical Pipeline\n",
    "categorical_transformer = Pipeline(steps=[\n",
    "    ('imputer', SimpleImputer(strategy = 'most_frequent', fill_value = 'missing')),\n",
    "    ('onehot', OneHotEncoder(handle_unknown='ignore'))\n",
    "])\n",
    "\n",
    "## or use Transform Merger instead of \n",
    "preprocessor = ColumnTransformer(\n",
    "    transformers=[\n",
    "        ('num', numeric_transformer, num_cols),\n",
    "        ('cat', categorical_transformer, cat_cols)])"
   ]
  },
  {
   "cell_type": "code",
   "execution_count": 32,
   "metadata": {},
   "outputs": [],
   "source": [
    "clf_logreg = Pipeline(steps=[('preprocessor', preprocessor),\n",
    "                             ('classifier', LogisticRegression())\n",
    "                            ])\n"
   ]
  },
  {
   "cell_type": "code",
   "execution_count": 33,
   "metadata": {},
   "outputs": [],
   "source": [
    "X, y = merge_ip.loc[:,merge_ip.columns!='Fraudster'], merge_ip.loc[:,'Fraudster']\n",
    "\n",
    "X_train, X_test, y_train, y_test = train_test_split(X, y, test_size=0.3, random_state=123) "
   ]
  },
  {
   "cell_type": "code",
   "execution_count": 34,
   "metadata": {},
   "outputs": [
    {
     "data": {
      "text/plain": [
       "Pipeline(memory=None,\n",
       "         steps=[('preprocessor',\n",
       "                 ColumnTransformer(n_jobs=None, remainder='drop',\n",
       "                                   sparse_threshold=0.3,\n",
       "                                   transformer_weights=None,\n",
       "                                   transformers=[('num',\n",
       "                                                  Pipeline(memory=None,\n",
       "                                                           steps=[('imputer',\n",
       "                                                                   SimpleImputer(add_indicator=False,\n",
       "                                                                                 copy=True,\n",
       "                                                                                 fill_value=None,\n",
       "                                                                                 missing_values=nan,\n",
       "                                                                                 strategy='median',\n",
       "                                                                                 verbose=0)),\n",
       "                                                                  ('scaler',\n",
       "                                                                   StandardScaler(copy=True,\n",
       "                                                                                  with_mean...\n",
       "                                                   'Gender', 'IP_Address',\n",
       "                                                   'Order_ID', 'Order_Source',\n",
       "                                                   'Order_Payment_Method'])],\n",
       "                                   verbose=False)),\n",
       "                ('classifier',\n",
       "                 LogisticRegression(C=1.0, class_weight=None, dual=False,\n",
       "                                    fit_intercept=True, intercept_scaling=1,\n",
       "                                    l1_ratio=None, max_iter=100,\n",
       "                                    multi_class='warn', n_jobs=None,\n",
       "                                    penalty='l2', random_state=None,\n",
       "                                    solver='warn', tol=0.0001, verbose=0,\n",
       "                                    warm_start=False))],\n",
       "         verbose=False)"
      ]
     },
     "execution_count": 34,
     "metadata": {},
     "output_type": "execute_result"
    }
   ],
   "source": [
    "clf_logreg.fit(X_train, y_train)"
   ]
  },
  {
   "cell_type": "code",
   "execution_count": 35,
   "metadata": {},
   "outputs": [],
   "source": [
    "train_pred = clf_logreg.predict(X_train)\n",
    "test_pred = clf_logreg.predict(X_test)"
   ]
  },
  {
   "cell_type": "code",
   "execution_count": 36,
   "metadata": {},
   "outputs": [],
   "source": [
    "confusion_matrix= confusion_matrix(y_train, train_pred)"
   ]
  },
  {
   "cell_type": "code",
   "execution_count": 37,
   "metadata": {},
   "outputs": [
    {
     "name": "stdout",
     "output_type": "stream",
     "text": [
      "[[34445     2]\n",
      " [ 2176  1326]]\n"
     ]
    }
   ],
   "source": [
    "print(confusion_matrix)"
   ]
  },
  {
   "cell_type": "code",
   "execution_count": 41,
   "metadata": {},
   "outputs": [],
   "source": [
    "#accuracy_score=(confusion_matrix[0,0]+ confusion_matrix[1,1])/(confusion_matrix[0,0]+confusion_matrix[0,1]+confusion_matrix[1,1]+confusion_matrix[1,0])\n",
    "\n",
    "#TPR= confusion_matrix[0,0]/(confusion_matrix[0,0]+confusion_matrix[0,1])"
   ]
  },
  {
   "cell_type": "code",
   "execution_count": 42,
   "metadata": {},
   "outputs": [],
   "source": [
    "test_merchant_data = pd.read_csv(\"test_merchant_data-1561627903902.csv\", sep = ',', header = 0, na_values = ['unknown', '?'])\n",
    "test_order_data = pd.read_csv(\"test_order_data-1561627931868.csv\", sep = ',', header = 0, na_values = 'unknown')\n",
    "\n",
    "test_data = pd.read_csv(\"test-1561627952093.csv\", sep = ',', header = 0, na_values = 'unknown')"
   ]
  },
  {
   "cell_type": "code",
   "execution_count": 43,
   "metadata": {},
   "outputs": [],
   "source": [
    "test_merge=pd.merge(test_merchant_data,test_order_data, how='outer',on='Merchant_ID')\n",
    "\n",
    "merge_test=pd.merge(test_data,test_merge, how='outer',on='Merchant_ID')"
   ]
  },
  {
   "cell_type": "code",
   "execution_count": 44,
   "metadata": {},
   "outputs": [
    {
     "data": {
      "text/html": [
       "<div>\n",
       "<style scoped>\n",
       "    .dataframe tbody tr th:only-of-type {\n",
       "        vertical-align: middle;\n",
       "    }\n",
       "\n",
       "    .dataframe tbody tr th {\n",
       "        vertical-align: top;\n",
       "    }\n",
       "\n",
       "    .dataframe thead th {\n",
       "        text-align: right;\n",
       "    }\n",
       "</style>\n",
       "<table border=\"1\" class=\"dataframe\">\n",
       "  <thead>\n",
       "    <tr style=\"text-align: right;\">\n",
       "      <th></th>\n",
       "      <th>Merchant_ID</th>\n",
       "      <th>Ecommerce_Provider_ID</th>\n",
       "      <th>Merchant_Registration_Date</th>\n",
       "      <th>Registered_Device_ID</th>\n",
       "      <th>Gender</th>\n",
       "      <th>Age</th>\n",
       "      <th>IP_Address</th>\n",
       "      <th>Customer_ID</th>\n",
       "      <th>Order_ID</th>\n",
       "      <th>Date_of_Order</th>\n",
       "      <th>Order_Value_USD</th>\n",
       "      <th>Order_Source</th>\n",
       "      <th>Order_Payment_Method</th>\n",
       "    </tr>\n",
       "  </thead>\n",
       "  <tbody>\n",
       "    <tr>\n",
       "      <th>0</th>\n",
       "      <td>53637</td>\n",
       "      <td>1746213</td>\n",
       "      <td>2018-02-11 20:50:29</td>\n",
       "      <td>PTMLBENYMQCTV</td>\n",
       "      <td>F</td>\n",
       "      <td>40</td>\n",
       "      <td>134.162.124.62</td>\n",
       "      <td>157068</td>\n",
       "      <td>a032de091f51</td>\n",
       "      <td>2018-03-09 09:09:42</td>\n",
       "      <td>60</td>\n",
       "      <td>SEO</td>\n",
       "      <td>Credit Card</td>\n",
       "    </tr>\n",
       "    <tr>\n",
       "      <th>1</th>\n",
       "      <td>243517</td>\n",
       "      <td>1746213</td>\n",
       "      <td>2018-04-06 13:19:39</td>\n",
       "      <td>HMCLDZUZPWZRR</td>\n",
       "      <td>M</td>\n",
       "      <td>39</td>\n",
       "      <td>152.76.98.87</td>\n",
       "      <td>112534</td>\n",
       "      <td>0d563f0606d6</td>\n",
       "      <td>2018-06-13 20:11:19</td>\n",
       "      <td>28</td>\n",
       "      <td>SEO</td>\n",
       "      <td>Credit Card</td>\n",
       "    </tr>\n",
       "    <tr>\n",
       "      <th>2</th>\n",
       "      <td>343640</td>\n",
       "      <td>1746213</td>\n",
       "      <td>2018-01-12 16:47:49</td>\n",
       "      <td>VLGSMAPXISSEJ</td>\n",
       "      <td>M</td>\n",
       "      <td>23</td>\n",
       "      <td>31.202.3.255</td>\n",
       "      <td>148774</td>\n",
       "      <td>18fb0fa888b6</td>\n",
       "      <td>2018-04-14 04:19:36</td>\n",
       "      <td>75</td>\n",
       "      <td>Ads</td>\n",
       "      <td>Debit Card</td>\n",
       "    </tr>\n",
       "    <tr>\n",
       "      <th>3</th>\n",
       "      <td>69889</td>\n",
       "      <td>1746213</td>\n",
       "      <td>2018-02-19 21:58:52</td>\n",
       "      <td>ZINHISBBOKQXT</td>\n",
       "      <td>M</td>\n",
       "      <td>34</td>\n",
       "      <td>12.242.168.185</td>\n",
       "      <td>114528</td>\n",
       "      <td>ed1eb920d721</td>\n",
       "      <td>2018-04-01 13:55:44</td>\n",
       "      <td>98</td>\n",
       "      <td>SEO</td>\n",
       "      <td>Credit Card</td>\n",
       "    </tr>\n",
       "    <tr>\n",
       "      <th>4</th>\n",
       "      <td>125706</td>\n",
       "      <td>1746213</td>\n",
       "      <td>2018-05-17 15:50:19</td>\n",
       "      <td>WFKEAOTPHTYEO</td>\n",
       "      <td>M</td>\n",
       "      <td>20</td>\n",
       "      <td>26.61.210.47</td>\n",
       "      <td>120940</td>\n",
       "      <td>313dcf962627</td>\n",
       "      <td>2018-05-25 02:08:18</td>\n",
       "      <td>35</td>\n",
       "      <td>SEO</td>\n",
       "      <td>Credit Card</td>\n",
       "    </tr>\n",
       "  </tbody>\n",
       "</table>\n",
       "</div>"
      ],
      "text/plain": [
       "   Merchant_ID  Ecommerce_Provider_ID Merchant_Registration_Date  \\\n",
       "0        53637                1746213        2018-02-11 20:50:29   \n",
       "1       243517                1746213        2018-04-06 13:19:39   \n",
       "2       343640                1746213        2018-01-12 16:47:49   \n",
       "3        69889                1746213        2018-02-19 21:58:52   \n",
       "4       125706                1746213        2018-05-17 15:50:19   \n",
       "\n",
       "  Registered_Device_ID Gender  Age      IP_Address  Customer_ID      Order_ID  \\\n",
       "0        PTMLBENYMQCTV      F   40  134.162.124.62       157068  a032de091f51   \n",
       "1        HMCLDZUZPWZRR      M   39    152.76.98.87       112534  0d563f0606d6   \n",
       "2        VLGSMAPXISSEJ      M   23    31.202.3.255       148774  18fb0fa888b6   \n",
       "3        ZINHISBBOKQXT      M   34  12.242.168.185       114528  ed1eb920d721   \n",
       "4        WFKEAOTPHTYEO      M   20    26.61.210.47       120940  313dcf962627   \n",
       "\n",
       "         Date_of_Order  Order_Value_USD Order_Source Order_Payment_Method  \n",
       "0  2018-03-09 09:09:42               60          SEO          Credit Card  \n",
       "1  2018-06-13 20:11:19               28          SEO          Credit Card  \n",
       "2  2018-04-14 04:19:36               75          Ads           Debit Card  \n",
       "3  2018-04-01 13:55:44               98          SEO          Credit Card  \n",
       "4  2018-05-25 02:08:18               35          SEO          Credit Card  "
      ]
     },
     "execution_count": 44,
     "metadata": {},
     "output_type": "execute_result"
    }
   ],
   "source": [
    "merge_test.head()"
   ]
  },
  {
   "cell_type": "code",
   "execution_count": 45,
   "metadata": {},
   "outputs": [
    {
     "name": "stdout",
     "output_type": "stream",
     "text": [
      "(13554, 13)\n"
     ]
    }
   ],
   "source": [
    "print(test_merge.shape)"
   ]
  },
  {
   "cell_type": "code",
   "execution_count": 46,
   "metadata": {},
   "outputs": [
    {
     "name": "stdout",
     "output_type": "stream",
     "text": [
      "(13554, 13)\n"
     ]
    }
   ],
   "source": [
    "print(merge_test.shape)"
   ]
  },
  {
   "cell_type": "code",
   "execution_count": 47,
   "metadata": {},
   "outputs": [],
   "source": [
    "merge_ip=ip_to_int(merge_test.IP_Address)"
   ]
  },
  {
   "cell_type": "code",
   "execution_count": 48,
   "metadata": {},
   "outputs": [],
   "source": [
    "for col in ['Merchant_Registration_Date','Date_of_Order']:\n",
    "    merge_test[col] = merge_test[col].astype('datetime64[ns]')"
   ]
  },
  {
   "cell_type": "code",
   "execution_count": 49,
   "metadata": {},
   "outputs": [],
   "source": [
    "for col in ['Merchant_Registration_Date','Date_of_Order']:\n",
    "    merge_test[col]= merge_test[col].dt.date"
   ]
  },
  {
   "cell_type": "code",
   "execution_count": 50,
   "metadata": {},
   "outputs": [
    {
     "data": {
      "text/plain": [
       "Merchant_ID                    int64\n",
       "Ecommerce_Provider_ID          int64\n",
       "Merchant_Registration_Date    object\n",
       "Registered_Device_ID          object\n",
       "Gender                        object\n",
       "Age                            int64\n",
       "IP_Address                    object\n",
       "Customer_ID                    int64\n",
       "Order_ID                      object\n",
       "Date_of_Order                 object\n",
       "Order_Value_USD                int64\n",
       "Order_Source                  object\n",
       "Order_Payment_Method          object\n",
       "dtype: object"
      ]
     },
     "execution_count": 50,
     "metadata": {},
     "output_type": "execute_result"
    }
   ],
   "source": [
    "merge_test.dtypes"
   ]
  },
  {
   "cell_type": "code",
   "execution_count": 51,
   "metadata": {},
   "outputs": [],
   "source": [
    "for col in ['Gender', 'Order_Source', 'Order_Payment_Method','Registered_Device_ID', 'IP_Address', 'Order_ID', 'Merchant_Registration_Date','Date_of_Order']:\n",
    "    merge_test[col] = merge_test[col].astype('category')"
   ]
  },
  {
   "cell_type": "code",
   "execution_count": 52,
   "metadata": {},
   "outputs": [],
   "source": [
    "merge_test.drop(['Merchant_Registration_Date','Date_of_Order'], axis=1,inplace=True)"
   ]
  },
  {
   "cell_type": "code",
   "execution_count": 53,
   "metadata": {},
   "outputs": [],
   "source": [
    "unseen = clf_logreg.predict(merge_test)"
   ]
  },
  {
   "cell_type": "code",
   "execution_count": null,
   "metadata": {},
   "outputs": [],
   "source": [
    "unseen_df= pd.DataFrame(unseen, columns=['Frauster'])"
   ]
  },
  {
   "cell_type": "code",
   "execution_count": null,
   "metadata": {},
   "outputs": [],
   "source": [
    "final_df= pd.concat([test_data, unseen_df])"
   ]
  },
  {
   "cell_type": "code",
   "execution_count": null,
   "metadata": {},
   "outputs": [],
   "source": [
    "pd.DataFrame(unseen).to_csv('Fraud.csv')"
   ]
  },
  {
   "cell_type": "code",
   "execution_count": null,
   "metadata": {},
   "outputs": [],
   "source": [
    "pd.DataFrame(final_df).to_csv('Fraud.csv')"
   ]
  },
  {
   "cell_type": "code",
   "execution_count": null,
   "metadata": {},
   "outputs": [],
   "source": [
    "f1_Train = f1_score(y_true=y_train, y_pred = train_pred, average='weighted')"
   ]
  },
  {
   "cell_type": "code",
   "execution_count": null,
   "metadata": {},
   "outputs": [],
   "source": [
    "f1_Train"
   ]
  },
  {
   "cell_type": "code",
   "execution_count": 57,
   "metadata": {},
   "outputs": [],
   "source": [
    "f1_Test = f1_score(y_true=y_test, y_pred =test_pred, average='weighted')"
   ]
  },
  {
   "cell_type": "code",
   "execution_count": 58,
   "metadata": {},
   "outputs": [
    {
     "data": {
      "text/plain": [
       "0.8834984524543031"
      ]
     },
     "execution_count": 58,
     "metadata": {},
     "output_type": "execute_result"
    }
   ],
   "source": [
    "f1_Test"
   ]
  }
 ],
 "metadata": {
  "kernelspec": {
   "display_name": "Python 3 (ipykernel)",
   "language": "python",
   "name": "python3"
  },
  "language_info": {
   "codemirror_mode": {
    "name": "ipython",
    "version": 3
   },
   "file_extension": ".py",
   "mimetype": "text/x-python",
   "name": "python",
   "nbconvert_exporter": "python",
   "pygments_lexer": "ipython3",
   "version": "3.13.2"
  }
 },
 "nbformat": 4,
 "nbformat_minor": 4
}
